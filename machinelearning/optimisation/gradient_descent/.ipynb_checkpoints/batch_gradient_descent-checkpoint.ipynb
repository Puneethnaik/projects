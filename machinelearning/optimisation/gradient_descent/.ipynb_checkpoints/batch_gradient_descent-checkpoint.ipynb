{
 "cells": [
  {
   "cell_type": "code",
   "execution_count": 1,
   "metadata": {
    "collapsed": true
   },
   "outputs": [],
   "source": [
    "import numpy as np\n",
    "import scipy\n",
    "import matplotlib.pyplot as plt\n",
    "%matplotlib inline"
   ]
  },
  {
   "cell_type": "markdown",
   "metadata": {},
   "source": [
    "Gradient descent is a first-order iterative optimization algorithm for finding the minimum of a function. To find a local minimum of a function using gradient descent, one takes steps proportional to the negative of the gradient (or approximate gradient) of the function at the current point. If instead one takes steps proportional to the positive of the gradient, one approaches a local maximum of that function; the procedure is then known as gradient ascent.\n",
    "\n",
    "Gradient descent is also known as steepest descent"
   ]
  },
  {
   "cell_type": "code",
   "execution_count": 113,
   "metadata": {
    "collapsed": true
   },
   "outputs": [],
   "source": [
    "def function(x):\n",
    "    return 5 * x[1] - 550\n",
    "    #return (1 - x[1]**2) + 100 * (x[2] - x[1]**2)**2 # we use the rosenbrock function"
   ]
  },
  {
   "cell_type": "code",
   "execution_count": 114,
   "metadata": {
    "scrolled": true
   },
   "outputs": [],
   "source": [
    "#we create points from a function\n",
    "number_of_points = 100\n",
    "number_of_variables = 1\n",
    "tolerance = 10**-5\n",
    "\n",
    "X = [np.random.random() for _ in range(number_of_points * number_of_variables + 1)]\n",
    "bias = np.ones(shape=(number_of_points, number_of_variables + 1))\n",
    "X = np.array(X)\n",
    "X = np.resize(X, new_shape=(number_of_points, number_of_variables))\n",
    "bias[:, 1:] = X\n",
    "X = bias\n",
    "y = []\n",
    "for x in X:\n",
    "    y.append(function(x))\n",
    "y = np.array(y)\n",
    "y = np.resize(y, new_shape=(number_of_points, 1))"
   ]
  },
  {
   "cell_type": "code",
   "execution_count": null,
   "metadata": {},
   "outputs": [],
   "source": []
  },
  {
   "cell_type": "code",
   "execution_count": 127,
   "metadata": {},
   "outputs": [
    {
     "name": "stdout",
     "output_type": "stream",
     "text": [
      "(2, 1)\n",
      "X dimension (100, 2)\n",
      "y dimension (100, 1)\n",
      "theta dimension (2, 1)\n",
      "final cost 0.000115988801809\n"
     ]
    }
   ],
   "source": [
    "theta = np.array([np.random.randint(1, 100000) for _ in range(number_of_variables + 1)])\n",
    "theta = np.resize(theta, new_shape=(number_of_variables + 1, 1))    \n",
    "prev_value = 1\n",
    "current_value = 2\n",
    "alpha = 0.5\n",
    "print(\"X dimension\", X.shape)\n",
    "print(\"y dimension\", y.shape)\n",
    "print(\"theta dimension\", theta.shape)\n",
    "while abs(prev_value - current_value) >= tolerance:\n",
    "    #current_value = \n",
    "    #gradient =  * np.sum(X * theta - y)\n",
    "    #print(theta)\n",
    "    \n",
    "    #print((np.matmul(X, theta)).shape)\n",
    "    gradient = alpha * (1 / number_of_points) * np.matmul(np.transpose(X), np.subtract(np.matmul(X, theta), y))\n",
    "    #print(\"grad shape\" + str(gradient.shape))\n",
    "    theta = theta - gradient\n",
    "    #print(\"current cost\", current_value)\n",
    "    prev_value = current_value\n",
    "    current_value = np.sum(np.square(np.matmul(X, theta) - y))\n",
    "print(\"final cost\", current_value)"
   ]
  },
  {
   "cell_type": "code",
   "execution_count": 116,
   "metadata": {},
   "outputs": [
    {
     "data": {
      "text/plain": [
       "<matplotlib.collections.PathCollection at 0x7f584811d400>"
      ]
     },
     "execution_count": 116,
     "metadata": {},
     "output_type": "execute_result"
    },
    {
     "data": {
      "image/png": "[encoded data removed]",
      "text/plain": [
       "<matplotlib.figure.Figure at 0x7f5848225a20>"
      ]
     },
     "metadata": {},
     "output_type": "display_data"
    }
   ],
   "source": [
    "plt.scatter(X[:, 1], y)\n",
    "plt.scatter(X[:, 1], np.matmul(X, theta))"
   ]
  },
  {
   "cell_type": "code",
   "execution_count": 121,
   "metadata": {
    "collapsed": true
   },
   "outputs": [],
   "source": []
  },
  {
   "cell_type": "code",
   "execution_count": null,
   "metadata": {
    "collapsed": true
   },
   "outputs": [],
   "source": []
  }
 ],
 "metadata": {
  "kernelspec": {
   "display_name": "Python 3",
   "language": "python",
   "name": "python3"
  },
  "language_info": {
   "codemirror_mode": {
    "name": "ipython",
    "version": 3
   },
   "file_extension": ".py",
   "mimetype": "text/x-python",
   "name": "python",
   "nbconvert_exporter": "python",
   "pygments_lexer": "ipython3",
   "version": "3.6.3"
  }
 },
 "nbformat": 4,
 "nbformat_minor": 2
}
